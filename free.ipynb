{
 "cells": [
  {
   "cell_type": "code",
   "execution_count": null,
   "metadata": {},
   "outputs": [
    {
     "name": "stdout",
     "output_type": "stream",
     "text": [
      "lorem_picsum_0.jpg b'\\xff\\xd8\\xff\\xe1\\x00\\xdeExif'\n",
      "lorem_picsum_1.jpg b'\\xff\\xd8\\xff\\xe1\\x00\\xdeExif'\n",
      "lorem_picsum_2.jpg b'\\xff\\xd8\\xff\\xe1\\x00\\xdeExif'\n",
      "lorem_picsum_3.jpg b'\\xff\\xd8\\xff\\xe1\\x00\\xdeExif'\n",
      "lorem_picsum_4.jpg b'\\xff\\xd8\\xff\\xe1\\x00\\xdeExif'\n",
      "lorem_picsum_5.jpg b'\\xff\\xd8\\xff\\xe1\\x00\\xdeExif'\n",
      "lorem_picsum_6.jpg b'\\xff\\xd8\\xff\\xe1\\x00\\xdeExif'\n",
      "lorem_picsum_7.jpg b'\\xff\\xd8\\xff\\xe1\\x00\\xdeExif'\n",
      "lorem_picsum_8.jpg b'\\xff\\xd8\\xff\\xe1\\x00\\xdeExif'\n",
      "lorem_picsum_9.jpg b'\\xff\\xd8\\xff\\xe1\\x00\\xdeExif'\n"
     ]
    }
   ],
   "source": [
    "from io import BytesIO\n",
    "from fastapi import UploadFile\n",
    "import httpx\n",
    "\n",
    "headers = {\"User-Agent\": \"Mozilla/5.0 (Windows NT 10.0; Win64; x64) AppleWebKit/537.36 (KHTML, like Gecko) Chrome/109.0.0.0 Safari/537.36\"}\n",
    "\n",
    "BASE_URL = \"https://picsum.photos\"\n",
    "\n",
    "async def get_lorem_picsum_images(count=10, width=400, height=300):\n",
    "    async with httpx.AsyncClient(headers=headers, follow_redirects=True) as client:\n",
    "        for i in range(count):\n",
    "            file_link = f\"{BASE_URL}/{width}/{height}\"\n",
    "            response = await client.get(file_link, timeout=5)\n",
    "            response.raise_for_status()\n",
    "            file_bytes = response.content            \n",
    "            file_name = f\"lorem_picsum_{i}.jpg\"\n",
    "            print(file_name, file_bytes[:10])\n",
    "        \n",
    "\n",
    "await get_lorem_picsum_images()\n"
   ]
  },
  {
   "cell_type": "code",
   "execution_count": null,
   "metadata": {},
   "outputs": [],
   "source": []
  },
  {
   "cell_type": "code",
   "execution_count": null,
   "metadata": {},
   "outputs": [],
   "source": []
  }
 ],
 "metadata": {
  "kernelspec": {
   "display_name": ".venv",
   "language": "python",
   "name": "python3"
  },
  "language_info": {
   "codemirror_mode": {
    "name": "ipython",
    "version": 3
   },
   "file_extension": ".py",
   "mimetype": "text/x-python",
   "name": "python",
   "nbconvert_exporter": "python",
   "pygments_lexer": "ipython3",
   "version": "3.11.9"
  }
 },
 "nbformat": 4,
 "nbformat_minor": 2
}
