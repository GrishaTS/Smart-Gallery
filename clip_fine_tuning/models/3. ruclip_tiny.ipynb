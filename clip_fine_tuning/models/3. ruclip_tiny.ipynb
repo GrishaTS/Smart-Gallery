{
 "cells": [
  {
   "cell_type": "markdown",
   "id": "69f47b05",
   "metadata": {},
   "source": [
    "# Тест работоспособности предобученной [RuClipTiny](https://github.com/cene555/ru-clip-tiny/tree/main) модели\n",
    "\n",
    "- ожидаю получить от `get_image_embedding` и `get_text_embedding` numpy.ndarray.shape = (512,)"
   ]
  },
  {
   "cell_type": "code",
   "execution_count": null,
   "id": "b60d132e",
   "metadata": {},
   "outputs": [],
   "source": [
    "# %%capture\n",
    "%gdown -O ru-clip-tiny.pkl https://drive.google.com/uc?id=1-3g3J90pZmHo9jbBzsEmr7ei5zm3VXOL"
   ]
  },
  {
   "cell_type": "markdown",
   "id": "06f4c648",
   "metadata": {},
   "source": [
    "[Ссылка не валидна](https://github.com/cene555/ru-clip-tiny/issues/1)"
   ]
  }
 ],
 "metadata": {
  "kernelspec": {
   "display_name": ".venv",
   "language": "python",
   "name": "python3"
  },
  "language_info": {
   "codemirror_mode": {
    "name": "ipython",
    "version": 3
   },
   "file_extension": ".py",
   "mimetype": "text/x-python",
   "name": "python",
   "nbconvert_exporter": "python",
   "pygments_lexer": "ipython3",
   "version": "3.11.9"
  }
 },
 "nbformat": 4,
 "nbformat_minor": 5
}
