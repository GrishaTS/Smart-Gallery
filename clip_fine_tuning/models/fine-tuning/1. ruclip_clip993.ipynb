{
 "cells": [
  {
   "cell_type": "markdown",
   "id": "f84d8973",
   "metadata": {},
   "source": [
    "# Дообучение предобученной [Sber RuClip](https://github.com/ai-forever/ru-clip)\n",
    "- Обучение происходит на `clip993` (`dataset/2. clip993.ipynb`)"
   ]
  },
  {
   "cell_type": "code",
   "execution_count": 1,
   "id": "1cb42547",
   "metadata": {},
   "outputs": [],
   "source": [
    "%%capture\n",
    "%pip install ruclip==0.0.2\n",
    "# https://github.com/ai-forever/ru-clip/issues/25\n",
    "%pip install huggingface-hub==0.23.3 --force-reinstall --no-deps\n",
    "%pip install pandas==2.2.3\n",
    "%pip install livelossplot==0.5.6"
   ]
  },
  {
   "cell_type": "code",
   "execution_count": 2,
   "id": "5d6ed02a",
   "metadata": {},
   "outputs": [
    {
     "name": "stderr",
     "output_type": "stream",
     "text": [
      "c:\\Users\\bezgr\\STUDY\\HSE\\Course 2\\Smart-Gallery\\clip_fine_tuning\\.venv\\Lib\\site-packages\\tqdm\\auto.py:21: TqdmWarning: IProgress not found. Please update jupyter and ipywidgets. See https://ipywidgets.readthedocs.io/en/stable/user_install.html\n",
      "  from .autonotebook import tqdm as notebook_tqdm\n"
     ]
    }
   ],
   "source": [
    "import os\n",
    "import urllib3\n",
    "\n",
    "import numpy as np\n",
    "import pandas as pd\n",
    "import ruclip\n",
    "import torch\n",
    "from livelossplot import PlotLosses\n",
    "from PIL import Image\n",
    "from torch.utils.data import DataLoader, random_split\n",
    "from tqdm import tqdm\n",
    "\n",
    "os.chdir('../..') # работаем в корне (clip_fine_tuning)\n",
    "\n",
    "from models.base_clip import BaseClip\n",
    "from dataset.src.ruclip_dataset import ClipDataset"
   ]
  },
  {
   "cell_type": "markdown",
   "id": "aa91de2e",
   "metadata": {},
   "source": [
    "Настройки и отключение предупреждений"
   ]
  },
  {
   "cell_type": "code",
   "execution_count": 3,
   "id": "475af5df",
   "metadata": {},
   "outputs": [],
   "source": [
    "pd.set_option('display.max_rows', None)           # Показывать все строки\n",
    "pd.set_option('display.max_columns', None)        # Показывать все столбцы\n",
    "pd.set_option('display.max_colwidth', None)       # Не обрезать содержимое ячеек\n",
    "pd.set_option('display.expand_frame_repr', False) # Не разбивать вывод на несколько строк\n",
    "\n",
    "urllib3.disable_warnings(urllib3.exceptions.InsecureRequestWarning)"
   ]
  },
  {
   "cell_type": "markdown",
   "id": "2f83bee8",
   "metadata": {},
   "source": [
    "- Размер батча\n",
    "\n",
    "Указал аналогичный размер на котором обучалась модель"
   ]
  },
  {
   "cell_type": "code",
   "execution_count": 4,
   "id": "37f3261b",
   "metadata": {},
   "outputs": [],
   "source": [
    "BATCH_SIZE = 32"
   ]
  },
  {
   "cell_type": "markdown",
   "id": "73d0ac48",
   "metadata": {},
   "source": [
    "*Создаём класс RuClip_p32_384 для работы с моделью ruclip-vit-base-patch32-384*"
   ]
  },
  {
   "cell_type": "code",
   "execution_count": 5,
   "id": "afda8364",
   "metadata": {},
   "outputs": [
    {
     "name": "stderr",
     "output_type": "stream",
     "text": [
      "c:\\Users\\bezgr\\STUDY\\HSE\\Course 2\\Smart-Gallery\\clip_fine_tuning\\.venv\\Lib\\site-packages\\huggingface_hub\\file_download.py:671: FutureWarning: 'cached_download' is the legacy way to download files from the HF hub, please consider upgrading to 'hf_hub_download'\n",
      "  warnings.warn(\n"
     ]
    }
   ],
   "source": [
    "class RuClipP32S384(BaseClip):\n",
    "    MODEL_NAME = 'ruclip-vit-base-patch32-384'\n",
    "\n",
    "    def __init__(self):\n",
    "        self.device = 'cuda' if torch.cuda.is_available() else 'cpu'\n",
    "        self.model, self.processor = ruclip.load(self.MODEL_NAME, device=self.device)\n",
    "\n",
    "    async def get_image_embedding(self, image: Image.Image) -> np.ndarray:\n",
    "        ...\n",
    "\n",
    "    async def get_text_embedding(self, text: str) -> np.ndarray:\n",
    "        ...\n",
    "\n",
    "\n",
    "clip = RuClipP32S384()"
   ]
  },
  {
   "cell_type": "markdown",
   "id": "e55271b2",
   "metadata": {},
   "source": [
    "# Дообучение"
   ]
  },
  {
   "cell_type": "markdown",
   "id": "29a20feb",
   "metadata": {},
   "source": [
    "- Включаю обучение всех параметров модели"
   ]
  },
  {
   "cell_type": "code",
   "execution_count": 6,
   "id": "19cad658",
   "metadata": {},
   "outputs": [],
   "source": [
    "clip.model.training = True\n",
    "for param in clip.model.parameters():\n",
    "    param.requires_grad = True"
   ]
  },
  {
   "cell_type": "markdown",
   "id": "19eac06b",
   "metadata": {},
   "source": [
    "- Кастомный датасет (трейновый и валидационный), работающий с `dataset/clip.db`"
   ]
  },
  {
   "cell_type": "code",
   "execution_count": 7,
   "id": "0345749c",
   "metadata": {},
   "outputs": [
    {
     "name": "stderr",
     "output_type": "stream",
     "text": [
      "100%|██████████| 993/993 [00:10<00:00, 94.05it/s] \n"
     ]
    }
   ],
   "source": [
    "ClipDataset.PROCESSOR = clip.processor\n",
    "dataset = ClipDataset(db_path='dataset/clip.db', table_name='clip993')\n",
    "\n",
    "train_size = int(0.85 * len(dataset))\n",
    "val_size = len(dataset) - train_size\n",
    "\n",
    "train_dataset, val_dataset = random_split(dataset, [train_size, val_size])"
   ]
  },
  {
   "cell_type": "markdown",
   "id": "433c3829",
   "metadata": {},
   "source": [
    "- Создаю DataLoader для обоих датасетов"
   ]
  },
  {
   "cell_type": "code",
   "execution_count": 8,
   "id": "6147d91e",
   "metadata": {},
   "outputs": [],
   "source": [
    "clip_train = DataLoader(train_dataset, batch_size=BATCH_SIZE, shuffle=True)\n",
    "clip_val = DataLoader(val_dataset, batch_size=BATCH_SIZE, shuffle=False)"
   ]
  },
  {
   "cell_type": "markdown",
   "id": "aebbdc4a",
   "metadata": {},
   "source": [
    "- Функции поиска эмбеддингов для картинок и текстов\n",
    "- Функция рассчета функции потерь через косинусное расстояние"
   ]
  },
  {
   "cell_type": "code",
   "execution_count": 9,
   "id": "f48be629",
   "metadata": {},
   "outputs": [],
   "source": [
    "def compute_latents(model: ruclip.CLIP, images, texts, device):\n",
    "    images = images.to(device)\n",
    "    image_latents = model.encode_image(images)\n",
    "    text_latents = model.encode_text(texts)\n",
    "\n",
    "    image_latents = image_latents / image_latents.norm(dim=-1, keepdim=True)\n",
    "    text_latents = text_latents / text_latents.norm(dim=-1, keepdim=True)\n",
    "    return image_latents, text_latents\n",
    "\n",
    "\n",
    "def compute_loss(image_latents: torch.Tensor, text_latents: torch.Tensor, device):\n",
    "    sims = image_latents @ text_latents.T\n",
    "    labels = torch.arange(len(image_latents)).to(device)\n",
    "    loss = torch.nn.functional.cross_entropy(sims, labels)\n",
    "    return loss"
   ]
  },
  {
   "cell_type": "markdown",
   "id": "f1f6fa9b",
   "metadata": {},
   "source": [
    "- Запускаю обучение с графиком отслеживания обучения"
   ]
  },
  {
   "cell_type": "code",
   "execution_count": null,
   "id": "55556846",
   "metadata": {},
   "outputs": [
    {
     "data": {
      "image/png": "[encoded data removed]",
      "text/plain": [
       "<Figure size 1200x800 with 2 Axes>"
      ]
     },
     "metadata": {},
     "output_type": "display_data"
    },
    {
     "name": "stdout",
     "output_type": "stream",
     "text": [
      "Loss\n",
      "\ttraining         \t (min:    2.881, max:    3.091, cur:    2.881)\n",
      "\tvalidation       \t (min:    2.900, max:    3.087, cur:    2.911)\n"
     ]
    }
   ],
   "source": [
    "liveloss = PlotLosses() \n",
    "optimizer = torch.optim.Adam(\n",
    "    filter(lambda p: p.requires_grad, clip.model.parameters()), \n",
    "    lr=1e-4\n",
    ")\n",
    "\n",
    "for epoch in range(10):\n",
    "    print(f'\\nEpoch {epoch + 1}:')\n",
    "    \n",
    "    # Тренировка\n",
    "    clip.model.train()\n",
    "    train_iterator = tqdm(clip_train, desc='Training', unit='batch')\n",
    "    train_loss = []\n",
    "\n",
    "    for images, texts in train_iterator:\n",
    "        image_latents, text_latents = compute_latents(clip.model, images, texts, clip.device)\n",
    "        loss = compute_loss(image_latents, text_latents, clip.device)\n",
    "\n",
    "        optimizer.zero_grad()\n",
    "        loss.backward()\n",
    "        optimizer.step()\n",
    "\n",
    "        train_iterator.set_postfix(loss=loss.item())\n",
    "        train_loss.append(loss.item())\n",
    "\n",
    "    # Валидация\n",
    "    clip.model.eval()\n",
    "    val_loss = []\n",
    "\n",
    "    with torch.no_grad():\n",
    "        val_iterator = tqdm(clip_val, desc='Validation', unit='batch')\n",
    "        for images, texts in val_iterator:\n",
    "            image_latents, text_latents = compute_latents(clip.model, images, texts, clip.device)\n",
    "            loss = compute_loss(image_latents, text_latents, clip.device)\n",
    "\n",
    "            val_iterator.set_postfix(val_loss=loss.item())\n",
    "            val_loss.append(loss.item())\n",
    "\n",
    "    # График\n",
    "    liveloss.update({\n",
    "        'loss': sum(train_loss) / len(train_loss),\n",
    "        'val_loss': sum(val_loss) / len(val_loss),\n",
    "    })\n",
    "    liveloss.send()"
   ]
  },
  {
   "cell_type": "markdown",
   "id": "54619c96",
   "metadata": {},
   "source": [
    "- Линии трейна и валидации постепенно снижаются — это признак обучаемости модели.\n",
    "- Validation loss \"прыгает\", особенно после 6-й эпохи — это может быть из-за маленького размера валидационного набора.\n",
    "- Датасет в принципе маленький — 993 картинки, даже с 10 подписями это немного (учитывая что оригинальный clip обучался на 37 млн парах картинка-описание).\n",
    "- Нужно увеличить выборку изображений, желательно хотя бы до нескольких десятков тысяч.\n",
    "- Учитывая что датасет маленький, модель все равно показала уменьшение функции потерь, что говорит о том, что обучение на датасете сформированный qwen2.5 - хорошая идея!!!"
   ]
  },
  {
   "cell_type": "markdown",
   "id": "9b4ba421",
   "metadata": {},
   "source": [
    "Фиксирую модель и загружаю на [hugging face](https://huggingface.co/bezGriga/ruclip-finetuned-clip993/tree/main)"
   ]
  },
  {
   "cell_type": "code",
   "execution_count": 11,
   "id": "3994ab06",
   "metadata": {},
   "outputs": [],
   "source": [
    "torch.save(clip.model.state_dict(), 'models/fine-tuned/ruclip_clip993.pt')"
   ]
  },
  {
   "cell_type": "markdown",
   "id": "823cab20",
   "metadata": {},
   "source": [
    "Модель загружена на [hugging face](https://huggingface.co/bezGriga/ruclip-finetuned-clip993/tree/main)"
   ]
  },
  {
   "cell_type": "markdown",
   "id": "bc19c8ea",
   "metadata": {},
   "source": [
    "Тест работоспособности модели - `models/4. ruclip_clip993.ipynb`"
   ]
  }
 ],
 "metadata": {
  "kernelspec": {
   "display_name": ".venv",
   "language": "python",
   "name": "python3"
  },
  "language_info": {
   "codemirror_mode": {
    "name": "ipython",
    "version": 3
   },
   "file_extension": ".py",
   "mimetype": "text/x-python",
   "name": "python",
   "nbconvert_exporter": "python",
   "pygments_lexer": "ipython3",
   "version": "3.11.9"
  }
 },
 "nbformat": 4,
 "nbformat_minor": 5
}
