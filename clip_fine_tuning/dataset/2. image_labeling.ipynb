{
 "cells": [
  {
   "cell_type": "code",
   "execution_count": 1,
   "metadata": {},
   "outputs": [],
   "source": [
    "import asyncio\n",
    "import ast\n",
    "import json\n",
    "import os\n",
    "from functools import partial\n",
    "from time import sleep\n",
    "\n",
    "import dashscope\n",
    "import requests\n",
    "from tqdm import tqdm\n",
    "\n",
    "os.chdir('..')\n",
    "\n",
    "from dataset.src.repository import ClipRepository"
   ]
  },
  {
   "cell_type": "code",
   "execution_count": null,
   "metadata": {},
   "outputs": [],
   "source": [
    "class ApiKeys:\n",
    "    def __init__(self, items: list[str]):\n",
    "        self.items = items\n",
    "        self.index = 0\n",
    "\n",
    "    def __next__(self):\n",
    "        value = self.items[self.index]\n",
    "        self.index = (self.index + 1) % len(self.items)\n",
    "        return value\n",
    "\n",
    "    def __bool__(self):\n",
    "        return bool(self.items)\n",
    "\n",
    "    def __len__(self):\n",
    "        return len(self.items)\n",
    "\n",
    "    def remove(self, item: str):\n",
    "        if item not in self.items:\n",
    "            return\n",
    "        idx = self.items.index(item)\n",
    "        self.items.remove(item)\n",
    "        if not self.items:\n",
    "            raise RuntimeError\n",
    "        if idx < self.index:\n",
    "            self.index -= 1\n",
    "        self.index %= len(self.items)\n",
    "\n",
    "    def __iter__(self):\n",
    "        return self\n",
    "    \n",
    "\n",
    "api_keys = ApiKeys(json.load(open('dataset/qwen_api_keys.json')))"
   ]
  },
  {
   "cell_type": "code",
   "execution_count": null,
   "metadata": {},
   "outputs": [
    {
     "name": "stderr",
     "output_type": "stream",
     "text": [
      "100%|██████████| 100/100 [02:40<00:00,  1.61s/it]\n"
     ]
    }
   ],
   "source": [
    "img_urls = []\n",
    "for i in tqdm(range(100)):\n",
    "    for attempt in range(3):\n",
    "        try:\n",
    "            response = requests.get(f'https://picsum.photos/1000/1000?random={i}', timeout=10)\n",
    "            img_urls.append(response.url)\n",
    "            break\n",
    "        except requests.exceptions.SSLError as e:\n",
    "            sleep(1)\n",
    "        except requests.exceptions.RequestException as e:\n",
    "            break\n",
    "    else:\n",
    "        print(f'Failed to load image {i} after 3 attempts')\n"
   ]
  },
  {
   "cell_type": "code",
   "execution_count": 4,
   "metadata": {},
   "outputs": [],
   "source": [
    "prompt = '''\n",
    "Cоздай список из 10 коротких описаний (3–7 слов каждое) на русском языке,\n",
    "описывающих это изображение. Используй формат Python-списка строк, например:\n",
    "[\"Собака бежит по снегу\", \"Пёс играет на улице\", ..., \"Активная прогулка в зимнем лесу\"].\n",
    "'''"
   ]
  },
  {
   "cell_type": "code",
   "execution_count": 28,
   "metadata": {},
   "outputs": [],
   "source": [
    "semaphore = asyncio.Semaphore(len(api_keys))\n",
    "\n",
    "async def get_label_of_image(img_url) -> str:\n",
    "    async with semaphore:\n",
    "        loop = asyncio.get_event_loop()\n",
    "        current_key = next(api_keys)\n",
    "        dashscope.api_key = current_key\n",
    "        messages = [{\n",
    "            'role': 'user',\n",
    "            'content': [\n",
    "                {'image': img_url},\n",
    "                {'text': prompt},\n",
    "            ]\n",
    "        }]\n",
    "        response = await loop.run_in_executor(\n",
    "            None,\n",
    "            partial(dashscope.MultiModalConversation.call,\n",
    "                    model='qwen2.5-vl-72b-instruct',\n",
    "                    messages=messages)\n",
    "        )\n",
    "        sleep(0.5)\n",
    "        if response['status_code'] != 200:\n",
    "            api_keys.remove(current_key)\n",
    "            print(len(api_keys))\n",
    "            return await get_label_of_image(img_url)\n",
    "        await ClipRepository.add(img_url, ast.literal_eval(response.output.choices[0].message.content[0]['text']))"
   ]
  },
  {
   "cell_type": "code",
   "execution_count": 29,
   "metadata": {},
   "outputs": [
    {
     "name": "stdout",
     "output_type": "stream",
     "text": [
      "37\n",
      "37\n",
      "36\n",
      "36\n",
      "35\n",
      "35\n",
      "34\n",
      "34\n",
      "33\n",
      "33\n",
      "32\n",
      "32\n",
      "31\n",
      "31\n",
      "30\n",
      "30\n",
      "29\n",
      "29\n"
     ]
    }
   ],
   "source": [
    "tasks = [get_label_of_image(url) for url in img_urls[88:]]\n",
    "try:\n",
    "    await asyncio.gather(*tasks)\n",
    "except RuntimeError:\n",
    "    print('Все api ключи упали')"
   ]
  },
  {
   "cell_type": "code",
   "execution_count": null,
   "metadata": {},
   "outputs": [],
   "source": []
  }
 ],
 "metadata": {
  "kernelspec": {
   "display_name": ".venv",
   "language": "python",
   "name": "python3"
  },
  "language_info": {
   "codemirror_mode": {
    "name": "ipython",
    "version": 3
   },
   "file_extension": ".py",
   "mimetype": "text/x-python",
   "name": "python",
   "nbconvert_exporter": "python",
   "pygments_lexer": "ipython3",
   "version": "3.11.9"
  }
 },
 "nbformat": 4,
 "nbformat_minor": 2
}
