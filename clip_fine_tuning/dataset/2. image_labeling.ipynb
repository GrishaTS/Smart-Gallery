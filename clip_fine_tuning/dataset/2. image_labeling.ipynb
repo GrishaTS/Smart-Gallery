{
 "cells": [
  {
   "cell_type": "markdown",
   "metadata": {},
   "source": [
    "Импорты и подготовка окружения"
   ]
  },
  {
   "cell_type": "code",
   "execution_count": 1,
   "metadata": {},
   "outputs": [],
   "source": [
    "import asyncio\n",
    "import ast\n",
    "import json\n",
    "import os\n",
    "from functools import partial\n",
    "from time import sleep\n",
    "from typing import Iterator\n",
    "\n",
    "import dashscope\n",
    "import requests\n",
    "from tqdm import tqdm\n",
    "\n",
    "# Переход в корневую директорию проекта\n",
    "os.chdir('..')\n",
    "\n",
    "from dataset.src.repository import ClipRepository"
   ]
  },
  {
   "cell_type": "markdown",
   "metadata": {},
   "source": [
    "Класс ApiKeys (для перебора ключей и отключения перегруженных)"
   ]
  },
  {
   "cell_type": "code",
   "execution_count": 2,
   "metadata": {},
   "outputs": [],
   "source": [
    "class ApiKeys(Iterator[str]):\n",
    "    \"\"\"\n",
    "    Класс для управления списком API-ключей с поддержкой ротации и исключения невалидных ключей.\n",
    "    \"\"\"\n",
    "\n",
    "    def __init__(self, items: list[str]) -> None:\n",
    "        self.items: list[str] = items\n",
    "        self.index: int = 0\n",
    "\n",
    "    def __next__(self) -> str:\n",
    "        value = self.items[self.index]\n",
    "        self.index = (self.index + 1) % len(self.items)\n",
    "        return value\n",
    "\n",
    "    def __bool__(self) -> bool:\n",
    "        return bool(self.items)\n",
    "\n",
    "    def __len__(self) -> int:\n",
    "        return len(self.items)\n",
    "\n",
    "    def remove(self, item: str) -> None:\n",
    "        if item not in self.items:\n",
    "            return\n",
    "        idx = self.items.index(item)\n",
    "        self.items.remove(item)\n",
    "        if not self.items:\n",
    "            raise RuntimeError(\"Список API-ключей пуст\")\n",
    "        if idx < self.index:\n",
    "            self.index -= 1\n",
    "        self.index %= len(self.items)\n",
    "\n",
    "    def __iter__(self) -> Iterator[str]:\n",
    "        return self\n",
    "\n",
    "\n",
    "api_keys = ApiKeys(json.load(open('dataset/qwen_api_keys.json'))) # Загрузка API-ключей"
   ]
  },
  {
   "cell_type": "markdown",
   "metadata": {},
   "source": [
    "Загрузка изображений"
   ]
  },
  {
   "cell_type": "code",
   "execution_count": 3,
   "metadata": {},
   "outputs": [
    {
     "name": "stderr",
     "output_type": "stream",
     "text": [
      "100%|██████████| 100/100 [03:12<00:00,  1.93s/it]\n"
     ]
    }
   ],
   "source": [
    "img_urls = []\n",
    "for i in tqdm(range(100)):\n",
    "    for attempt in range(3):\n",
    "        try:\n",
    "            response = requests.get(f'https://picsum.photos/1000/1000?random={i}', timeout=10)\n",
    "            if response.status_code == 200:\n",
    "                img_urls.append(response.url)\n",
    "                break\n",
    "        except requests.exceptions.SSLError as e:\n",
    "            sleep(1)\n",
    "        except requests.exceptions.RequestException as e:\n",
    "            print(response)\n",
    "            continue\n",
    "    else:\n",
    "        print(f'Failed to load image {i} after 3 attempts')"
   ]
  },
  {
   "cell_type": "markdown",
   "metadata": {},
   "source": [
    "Промпт для генерации описаний"
   ]
  },
  {
   "cell_type": "code",
   "execution_count": 4,
   "metadata": {},
   "outputs": [],
   "source": [
    "prompt = '''\n",
    "Cоздай список из 10 коротких описаний (3–7 слов каждое) на русском языке,\n",
    "описывающих это изображение. Используй формат Python-списка строк, например:\n",
    "[\"Собака бежит по снегу\", \"Пёс играет на улице\", ..., \"Активная прогулка в зимнем лесу\"].\n",
    "'''"
   ]
  },
  {
   "cell_type": "markdown",
   "metadata": {},
   "source": [
    "Асинхронный вызов модели qwen"
   ]
  },
  {
   "cell_type": "code",
   "execution_count": 5,
   "metadata": {},
   "outputs": [],
   "source": [
    "semaphore = asyncio.Semaphore(len(api_keys))\n",
    "\n",
    "async def get_label_of_image(img_url) -> str:\n",
    "    async with semaphore:\n",
    "        loop = asyncio.get_event_loop()\n",
    "        current_key = next(api_keys)\n",
    "        dashscope.api_key = current_key\n",
    "        messages = [{\n",
    "            'role': 'user',\n",
    "            'content': [\n",
    "                {'image': img_url},\n",
    "                {'text': prompt},\n",
    "            ]\n",
    "        }]\n",
    "        response = await loop.run_in_executor(\n",
    "            None,\n",
    "            partial(dashscope.MultiModalConversation.call,\n",
    "                    model='qwen2.5-vl-72b-instruct',\n",
    "                    messages=messages)\n",
    "        )\n",
    "        if response['status_code'] != 200:\n",
    "            api_keys.remove(current_key)\n",
    "            return await get_label_of_image(img_url)\n",
    "        ClipRepository.add(img_url, ast.literal_eval(response.output.choices[0].message.content[0]['text']))"
   ]
  },
  {
   "cell_type": "markdown",
   "metadata": {},
   "source": [
    "Запуск асинхронных задач"
   ]
  },
  {
   "cell_type": "code",
   "execution_count": null,
   "metadata": {},
   "outputs": [],
   "source": [
    "tasks = [get_label_of_image(url) for url in img_urls]\n",
    "try:\n",
    "    await asyncio.gather(*tasks)\n",
    "except RuntimeError as e:\n",
    "    print(e)"
   ]
  }
 ],
 "metadata": {
  "kernelspec": {
   "display_name": ".venv",
   "language": "python",
   "name": "python3"
  },
  "language_info": {
   "codemirror_mode": {
    "name": "ipython",
    "version": 3
   },
   "file_extension": ".py",
   "mimetype": "text/x-python",
   "name": "python",
   "nbconvert_exporter": "python",
   "pygments_lexer": "ipython3",
   "version": "3.11.9"
  }
 },
 "nbformat": 4,
 "nbformat_minor": 2
}
