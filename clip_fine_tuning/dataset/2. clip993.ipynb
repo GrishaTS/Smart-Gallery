{
 "cells": [
  {
   "cell_type": "markdown",
   "metadata": {},
   "source": [
    "# Создание датасета для обучения Clip"
   ]
  },
  {
   "cell_type": "markdown",
   "metadata": {},
   "source": [
    "Импорты и подготовка"
   ]
  },
  {
   "cell_type": "code",
   "execution_count": null,
   "metadata": {},
   "outputs": [],
   "source": [
    "import asyncio\n",
    "import ast\n",
    "import json\n",
    "import os\n",
    "from functools import partial\n",
    "from pathlib import Path\n",
    "from time import sleep\n",
    "from typing import Iterator\n",
    "\n",
    "import requests\n",
    "import dashscope\n",
    "from tqdm import tqdm\n",
    "from tqdm.asyncio import tqdm_asyncio\n",
    "\n",
    "os.chdir('..') # работаем в корне (clip_fine_tuning)\n",
    "\n",
    "from dataset.src.repository import Clip993Repository\n"
   ]
  },
  {
   "cell_type": "markdown",
   "metadata": {},
   "source": [
    "Класс ApiKeys (для перебора ключей и отключения перегруженных)"
   ]
  },
  {
   "cell_type": "code",
   "execution_count": 29,
   "metadata": {},
   "outputs": [],
   "source": [
    "class ApiKeys(Iterator[str]):\n",
    "    \"\"\"\n",
    "    Класс для управления списком API-ключей с поддержкой ротации и исключения невалидных ключей.\n",
    "    \"\"\"\n",
    "\n",
    "    def __init__(self, items: list[str]) -> None:\n",
    "        self.items: list[str] = items\n",
    "        self.index: int = 0\n",
    "\n",
    "    def __next__(self) -> str:\n",
    "        value = self.items[self.index]\n",
    "        self.index = (self.index + 1) % len(self.items)\n",
    "        return value\n",
    "\n",
    "    def __bool__(self) -> bool:\n",
    "        return bool(self.items)\n",
    "\n",
    "    def __len__(self) -> int:\n",
    "        return len(self.items)\n",
    "\n",
    "    def remove(self, item: str) -> None:\n",
    "        if item not in self.items:\n",
    "            return\n",
    "        idx = self.items.index(item)\n",
    "        self.items.remove(item)\n",
    "        if not self.items:\n",
    "            raise RuntimeError(\"Список API-ключей пуст\")\n",
    "        if idx < self.index:\n",
    "            self.index -= 1\n",
    "        self.index %= len(self.items)\n",
    "\n",
    "    def __iter__(self) -> Iterator[str]:\n",
    "        return self\n",
    "\n",
    "\n",
    "api_keys = ApiKeys(json.load(open('dataset/qwen_api_keys.json'))) # Загрузка API-ключей"
   ]
  },
  {
   "cell_type": "markdown",
   "metadata": {},
   "source": [
    "Загрузка изображений из [api picsum](https://picsum.photos/)"
   ]
  },
  {
   "cell_type": "code",
   "execution_count": 3,
   "metadata": {},
   "outputs": [],
   "source": [
    "img_urls = []\n",
    "for page in range(11):\n",
    "    response = requests.get(f'https://picsum.photos/v2/list?page={page}&limit=100', timeout=15)\n",
    "    if response.status_code == 200:\n",
    "        img_urls += ['/'.join(image['download_url'].split('/')[:5]) + '/500/500' for image in response.json()]\n",
    "    else:\n",
    "        img_urls = []\n",
    "        raise RuntimeError()\n",
    "    sleep(5)"
   ]
  },
  {
   "cell_type": "markdown",
   "metadata": {},
   "source": [
    "- Qwen не справляется с редиректами, ведущими на изображения, поэтому мы заранее разрешаем такие ссылки, сохраняем финальные URL в кэш, чтобы не перегружать API при повторных запросах.\n"
   ]
  },
  {
   "cell_type": "code",
   "execution_count": 4,
   "metadata": {},
   "outputs": [
    {
     "name": "stderr",
     "output_type": "stream",
     "text": [
      "100%|██████████| 1093/1093 [00:00<00:00, 403447.53it/s]\n"
     ]
    }
   ],
   "source": [
    "CACHE_PATH = Path(\".cache/img_hmac_urls.json\")\n",
    "CACHE_PATH.parent.mkdir(parents=True, exist_ok=True)\n",
    "if CACHE_PATH.exists():\n",
    "    with open(CACHE_PATH, \"r\") as f:\n",
    "        img_hmac_urls = json.load(f)\n",
    "else:\n",
    "    img_hmac_urls = {}\n",
    "for img_url in tqdm(img_urls):\n",
    "    if img_url in img_hmac_urls:\n",
    "        continue\n",
    "    final_url = requests.get(img_url, timeout=10, verify=False).url\n",
    "    img_hmac_urls[img_url] = final_url\n",
    "    with open(CACHE_PATH, \"w\") as f:\n",
    "        json.dump(img_hmac_urls, f, indent=2)\n",
    "    sleep(10)"
   ]
  },
  {
   "cell_type": "markdown",
   "metadata": {},
   "source": [
    "- Промпт для генерации описаний"
   ]
  },
  {
   "cell_type": "code",
   "execution_count": 5,
   "metadata": {},
   "outputs": [],
   "source": [
    "prompt = '''\n",
    "Cоздай список из 10 коротких описаний (3–7 слов каждое) на русском языке,\n",
    "описывающих это изображение. Используй формат Python-списка строк, например:\n",
    "[\"Собака бежит по снегу\", \"Пёс играет на улице\", ..., \"Активная прогулка в зимнем лесу\"].\n",
    "'''"
   ]
  },
  {
   "cell_type": "markdown",
   "metadata": {},
   "source": [
    "- Асинхронный вызов модели qwen"
   ]
  },
  {
   "cell_type": "code",
   "execution_count": null,
   "metadata": {},
   "outputs": [],
   "source": [
    "semaphore = asyncio.Semaphore(len(api_keys))\n",
    "\n",
    "async def get_label_of_image(img_url):\n",
    "    async with semaphore:\n",
    "        loop = asyncio.get_event_loop()\n",
    "        current_key = next(api_keys)\n",
    "        dashscope.api_key = current_key\n",
    "        messages = [{\n",
    "            'role': 'user',\n",
    "            'content': [\n",
    "                {'image': img_hmac_urls[img_url]},\n",
    "                {'text': prompt},\n",
    "            ]\n",
    "        }]\n",
    "        response = await loop.run_in_executor(\n",
    "            None,\n",
    "            partial(\n",
    "                dashscope.MultiModalConversation.call,\n",
    "                model='qwen2.5-vl-72b-instruct',\n",
    "                messages=messages\n",
    "            )\n",
    "        )\n",
    "        if response['status_code'] != 200:\n",
    "            api_keys.remove(current_key)\n",
    "            return\n",
    "        label_text = response.output.choices[0].message.content[0]['text']\n",
    "        Clip993Repository.add(img_url, ast.literal_eval(label_text))\n",
    "        await asyncio.sleep(10)"
   ]
  },
  {
   "cell_type": "markdown",
   "metadata": {},
   "source": [
    "Запуск асинхронных задач"
   ]
  },
  {
   "cell_type": "code",
   "execution_count": null,
   "metadata": {},
   "outputs": [],
   "source": [
    "urls = list({url for url in img_urls if not Clip993Repository.get_by_url(url)})\n",
    "while urls:\n",
    "    tasks = [get_label_of_image(url) for url in urls]\n",
    "    try:\n",
    "        for coro in tqdm_asyncio.as_completed(tasks, desc=\"Processing images\", total=len(tasks)):\n",
    "            await coro\n",
    "    except RuntimeError as e:\n",
    "        print(f\"RuntimeError: {e}\")\n",
    "    urls = list({url for url in img_urls if not Clip993Repository.get_by_url(url)})\n",
    "    await asyncio.sleep(60)"
   ]
  },
  {
   "cell_type": "markdown",
   "metadata": {},
   "source": [
    "*Все сохранено в `clip.db` (`clip993`)*"
   ]
  }
 ],
 "metadata": {
  "kernelspec": {
   "display_name": ".venv",
   "language": "python",
   "name": "python3"
  },
  "language_info": {
   "codemirror_mode": {
    "name": "ipython",
    "version": 3
   },
   "file_extension": ".py",
   "mimetype": "text/x-python",
   "name": "python",
   "nbconvert_exporter": "python",
   "pygments_lexer": "ipython3",
   "version": "3.11.9"
  }
 },
 "nbformat": 4,
 "nbformat_minor": 2
}
