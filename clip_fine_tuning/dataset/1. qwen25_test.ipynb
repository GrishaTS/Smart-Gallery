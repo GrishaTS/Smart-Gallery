{
 "cells": [
  {
   "cell_type": "markdown",
   "metadata": {},
   "source": [
    "# Проверка работособности api qwen2.5 "
   ]
  },
  {
   "cell_type": "markdown",
   "metadata": {},
   "source": [
    "Установка библиотеки `dashscope`"
   ]
  },
  {
   "cell_type": "code",
   "execution_count": 1,
   "metadata": {},
   "outputs": [],
   "source": [
    "%%capture\n",
    "%pip install dashscope"
   ]
  },
  {
   "cell_type": "markdown",
   "metadata": {},
   "source": [
    "Импорт и инициализация API-ключей\n",
    "\n",
    "(взял ключи из гита)"
   ]
  },
  {
   "cell_type": "code",
   "execution_count": null,
   "metadata": {},
   "outputs": [],
   "source": [
    "import dashscope\n",
    "from tqdm import tqdm\n",
    "\n",
    "import json\n",
    "\n",
    "free_api_keys_from_git = list({\n",
    "    'sk-aa328698ca6f4a7c9c0dde0b9851a772',\n",
    "    'sk-8b43e7cbebe64ed2bbdb27dfd29cec7e',\n",
    "    'sk-db10d05e219d4ba2836874d2b503d1f1',\n",
    "    'sk-dc356b8ca42c41788717c007f49e134a',\n",
    "    'sk-e3c606cb381b4cba9d8dded2d714e071',\n",
    "    'sk-ed6d4a77b7b343679f7860466e562247',\n",
    "    'sk-33d5aa12eea3461c922d3342b16dd7b3',\n",
    "    'sk-d9663052329b443bbe79bb6022efa6d0',\n",
    "    'sk-09dd84c7453e4f80a027a05970ab19e1',\n",
    "    'sk-b7b302bad3b3410a9e21ca2294de4a08',\n",
    "    'sk-d7c72208acfe4e89bb3045e708fbcc35',\n",
    "    'sk-b7b302bad3b3410a9e21ca2294de4a08',\n",
    "    'sk-699d29a865824dd8a56d427fe45b7413',\n",
    "    'sk-50a14a4626cb44d3a5cd33fff9750f39',\n",
    "    'sk-6267c004c2ac41d69c098628660f41d0',\n",
    "    'sk-13f158d94a4d43038055a89acd8024f2',\n",
    "    'sk-be7bf2ca2f074844a8538f6878aadb79',\n",
    "    'sk-c90ade95a2b940229e0ac9f35430dc1b',\n",
    "    'sk-b1d261afb71d40bea90b61ac11a202af',\n",
    "    'sk-448eb341e1454d398128266675581417',\n",
    "    'sk-60f739c8926247f5b22b23c67b075418',\n",
    "    'sk-51e0740ed82b4fe79983d1d5e18d0f77',\n",
    "    'sk-430eda3a5950475fa5dde7d12f51199f',\n",
    "    'sk-d0eb9f3efda042e58918ba993fea547b',\n",
    "    'sk-632f5cf28f0a43719096801cd7c2e61a',\n",
    "    'sk-dc356b8ca42c41788717c007f49e134a',\n",
    "    'sk-d83c8efeee9449198ef0a4f5c67be150',\n",
    "    'sk-d7c72208acfe4e89bb3045e708fbcc35',\n",
    "    'sk-b1bb53cc65204da6991fa7097705480e',\n",
    "    'sk-5c29358f33fd44b9bbea59b2cf6c131c',\n",
    "    'sk-430eda3a5950475fa5dde7d12f51199f',\n",
    "    'sk-80d6d634c5514cdca77bc6ae448d8912',\n",
    "    'sk-3b986ed51abb4ed18aadde5d41e11397',\n",
    "    'sk-704e7a4155304f00abb5d8105ea13c7d',\n",
    "    'sk-b6d1904ed7b24dd9a6afa8f4c852098d',\n",
    "    'sk-c90ade95a2b940229e0ac9f35430dc1b',\n",
    "    'sk-7af7ba01a1c14dc5b62a8d1d429ddf87',\n",
    "    'sk-6267c004c2ac41d69c098628660f41d0',\n",
    "    'sk-5af05cf94fbe4be8b1c6c55bf3d0a8fe',\n",
    "    'sk-f160f9b3fb444ea390504d34811d6a99',\n",
    "    'sk-2f4c3024b43d4d0c98672ddb02096f13',\n",
    "    'sk-10fb1eb7ce4b47ad8b5f81ac0647739f',\n",
    "    'sk-34a5ce02952b436bb955dab064177c20',\n",
    "    'sk-3c8f0bad536c4d669d26c61c7f7f598b',\n",
    "    'sk-35553f9fac6745d0a831864c4108574e',\n",
    "    'sk-3861114a97444b498b0f08741ec4dc45',\n",
    "    'sk-33c0665bdb79433ea0820a67bb059d95',\n",
    "    'sk-4d0ed669937c4e5bb13b5b55e41bc186',\n",
    "    'sk-4c461e0b5a3f4de1a2ad3ce436f2b0cc',\n",
    "    'sk-4f889cd734d947cb94b33ec01130de52',\n",
    "    'sk-4350f6695d1145d69511b292b53994a1',\n",
    "    'sk-403a44b7513a4afd9150426e19594c46',\n",
    "    'sk-495f41976fcb485da0f19d77667e2e73',\n",
    "    'sk-47912a5b978c442c8b21e8c6a41324d4',\n",
    "    'sk-40f540e96272456288ff6890c06d9913',\n",
    "    'sk-44a1296ab3114549a25b372e7f07d0fd',\n",
    "    'sk-5c669ac69ad2450d9dfcb430caf6233f',\n",
    "    'sk-51e8c5ec24c14d83bb96f6ce9f8ac46b',\n",
    "    'sk-56f75127a91347509775ef3f3a7573d6',\n",
    "    'sk-5f340b69ddc04bc8a8eb61daee457f23',\n",
    "    'sk-99f55920b8834f6f8c1e78f8d3691c26',\n",
    "    'sk-56edad48480b449a99a6a37267cabc90',\n",
    "    'sk-19fcf24354ec4a938808c95580fc8bf7',\n",
    "    'sk-57e3301689644bf6a6f0ab23780176db',\n",
    "    'sk-56e46db3b35443c2a0fc282db68a81c2',\n",
    "    'sk-5f89fd2525f141aaa14354c854a5137c',\n",
    "    'sk-56bd3bbc269d43939d41cea923145e49',\n",
    "    'sk-5e40de76096044dfbc27b37f9ca0f436',\n",
    "    'sk-6d98fbab76b348b0a7ba7b61fe964b3a',\n",
    "    'sk-6ca418f024f549c89e98b0c0b2d684b2',\n",
    "    'sk-6c355665886143268de653b89db74cfa',\n",
    "    'sk-6636af76aefd40f0945adf22593c87c9',\n",
    "    'sk-6db2665f8f4346e0bf1306925451e702',\n",
    "    'sk-63eeaf4b34b04334a6e575d9864786e7',\n",
    "    'sk-69c9bf69fa2b4d2985834d6dc17c0790',\n",
    "    'sk-6ddaa19b67a345528f40ecc5e6c2373b',\n",
    "    'sk-64fe5d7794774632a0501292632d1395',\n",
    "    'sk-6e396126d6e841b3a5e6d7274271f721',\n",
    "    'sk-6d526f72762d47658c9813de83ff7e52',\n",
    "    'sk-73009b1ebbb84cc1aa2b3efeba348f87',\n",
    "    'sk-766f6f492b264f369bf312de82f5afd7',\n",
    "    'sk-73854684bd324c448ccc453617cd62fc',\n",
    "    'sk-72da5a98be2a40bda15c043db6cc48a5',\n",
    "    'sk-746e24bbb3d14fc7bced0a4d35453a41',\n",
    "    'sk-762f18d0792749abaf6d9044bdfdbfd6',\n",
    "    'sk-722305fe62a140a4aa01c29371028e5f',\n",
    "    'sk-751c5c38f1d54c93839ba8674ff89aca',\n",
    "    'sk-d08df332421443b59b99397e46f03838',\n",
    "    'sk-89b79de3a1ae4b4fb26a7b023e06699f',\n",
    "    'sk-80a72f794bc4488d85798d590e96db43',\n",
    "    'sk-83f939a7ee424d588c176662a9636061',\n",
    "    'sk-8ab06c37faff4235a7340879b8103b88',\n",
    "    'sk-8004460cbed84e1c8acb23dcd5393c55',\n",
    "    'sk-86daa3d9b5bb40bfa1c686216ec402cd',\n",
    "    'sk-8eebd0e8d5be456784b68a7a22635dbe',\n",
    "    'sk-8eaf405d71b34266801f208eebb79105',\n",
    "    'sk-9180721f147e4c8da8592600ff865ee1',\n",
    "    'sk-92eb4ac9124042118fa9dfa1014347c6',\n",
    "    'sk-19fcf24354ec4a938808c95580fc8bf7',\n",
    "    'sk-960782c2acab4e16bcb39c8730859e21',\n",
    "    'sk-973a8ecb703f48db906c3cf2ebe7b3b6',\n",
    "    'sk-9fdaf5b5b2814c8380e47b427087618d',\n",
    "    'sk-97056e0eb2dd493aae8a453ad2b54ad8',\n",
    "    'sk-96f5960806d24c9cbb8b01de99e9c224',\n",
    "    'sk-9f8124e18aa242af830c8a502c015c40',\n",
    "    'sk-9a129b3586554d15aba647e8b5361e35',\n",
    "    'sk-9c68ec4f197e47b7be30132e3ae2fd9e',\n",
    "    'sk-05f861ceafce4f32a3590a83f55f67eb',\n",
    "    'sk-07ee98214a8a46ae84b25b59635ad36a',\n",
    "    'sk-00ea13cc1ddc42a8a6421a3a4eb89678',\n",
    "    'sk-0725a223a78d4c64a15dc46e77298400',\n",
    "    'sk-098b50506775428f9796378627ab1aad',\n",
    "    'sk-04c0b0ad099e407c84a0fba8e48131a2',\n",
    "    'sk-0793fab51dbd44f1a3dbf2e0541990f9',\n",
    "    'sk-04e0cacf952646b7b0481746d122e0ea',\n",
    "})"
   ]
  },
  {
   "cell_type": "markdown",
   "metadata": {},
   "source": [
    "Проверка работоспобоности ключей"
   ]
  },
  {
   "cell_type": "code",
   "execution_count": 3,
   "metadata": {},
   "outputs": [
    {
     "name": "stderr",
     "output_type": "stream",
     "text": [
      " 90%|████████▉ | 97/108 [04:02<00:33,  3.07s/it]"
     ]
    },
    {
     "name": "stdout",
     "output_type": "stream",
     "text": [
      "sk-704e7a4155304f00abb5d8105ea13c7d\n"
     ]
    },
    {
     "name": "stderr",
     "output_type": "stream",
     "text": [
      " 94%|█████████▍| 102/108 [04:13<00:12,  2.13s/it]"
     ]
    },
    {
     "name": "stdout",
     "output_type": "stream",
     "text": [
      "sk-86daa3d9b5bb40bfa1c686216ec402cd\"\n"
     ]
    },
    {
     "name": "stderr",
     "output_type": "stream",
     "text": [
      "100%|██████████| 108/108 [04:24<00:00,  2.45s/it]\n"
     ]
    },
    {
     "data": {
      "text/plain": [
       "106"
      ]
     },
     "execution_count": 3,
     "metadata": {},
     "output_type": "execute_result"
    }
   ],
   "source": [
    "for key in tqdm(free_api_keys_from_git[:]):\n",
    "    dashscope.api_key = key\n",
    "\n",
    "    messages = [{\n",
    "        'role': 'user',\n",
    "        'content': [\n",
    "            {'text': 'Hello, are you here?'},\n",
    "        ]\n",
    "    }]\n",
    "\n",
    "    response = dashscope.MultiModalConversation.call(model='qwen2.5-vl-72b-instruct', messages=messages)\n",
    "    if response['status_code'] != 200:\n",
    "        print(key)\n",
    "        free_api_keys_from_git.remove(key)\n",
    "len(free_api_keys_from_git)"
   ]
  },
  {
   "cell_type": "markdown",
   "metadata": {},
   "source": [
    "Список ключей лежат в файле qwen_api_keys.json"
   ]
  },
  {
   "cell_type": "code",
   "execution_count": 4,
   "metadata": {},
   "outputs": [],
   "source": [
    "with open('qwen_api_keys.json', 'w') as file:\n",
    "    json.dump(free_api_keys_from_git, file, indent=4)"
   ]
  }
 ],
 "metadata": {
  "kernelspec": {
   "display_name": ".venv",
   "language": "python",
   "name": "python3"
  },
  "language_info": {
   "codemirror_mode": {
    "name": "ipython",
    "version": 3
   },
   "file_extension": ".py",
   "mimetype": "text/x-python",
   "name": "python",
   "nbconvert_exporter": "python",
   "pygments_lexer": "ipython3",
   "version": "3.11.9"
  }
 },
 "nbformat": 4,
 "nbformat_minor": 2
}
