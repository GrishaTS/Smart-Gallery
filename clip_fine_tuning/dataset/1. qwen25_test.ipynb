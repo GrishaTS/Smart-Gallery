{
 "cells": [
  {
   "cell_type": "markdown",
   "metadata": {},
   "source": [
    "# Проверка работособности api qwen2.5 "
   ]
  },
  {
   "cell_type": "markdown",
   "metadata": {},
   "source": [
    "Установка библиотеки `dashscope`"
   ]
  },
  {
   "cell_type": "code",
   "execution_count": 1,
   "metadata": {},
   "outputs": [],
   "source": [
    "%%capture\n",
    "%pip install dashscope"
   ]
  },
  {
   "cell_type": "markdown",
   "metadata": {},
   "source": [
    "Импорт и инициализация API-ключей\n",
    "\n",
    "(взял ключи из гита)"
   ]
  },
  {
   "cell_type": "code",
   "execution_count": null,
   "metadata": {},
   "outputs": [],
   "source": [
    "import dashscope\n",
    "from tqdm import tqdm\n",
    "\n",
    "import json\n",
    "\n",
    "free_api_keys_from_git = list({\n",
    "    \"sk-aa328698ca6f4a7c9c0dde0b9851a772\",\n",
    "    \"sk-8b43e7cbebe64ed2bbdb27dfd29cec7e\",\n",
    "    \"sk-db10d05e219d4ba2836874d2b503d1f1\",\n",
    "    \"sk-dc356b8ca42c41788717c007f49e134a\",\n",
    "    \"sk-e3c606cb381b4cba9d8dded2d714e071\",\n",
    "    \"sk-ed6d4a77b7b343679f7860466e562247\",\n",
    "    \"sk-33d5aa12eea3461c922d3342b16dd7b3\",\n",
    "    \"sk-d9663052329b443bbe79bb6022efa6d0\",\n",
    "    \"sk-09dd84c7453e4f80a027a05970ab19e1\",\n",
    "    \"sk-b7b302bad3b3410a9e21ca2294de4a08\",\n",
    "    \"sk-d7c72208acfe4e89bb3045e708fbcc35\",\n",
    "    \"sk-b7b302bad3b3410a9e21ca2294de4a08\",\n",
    "    \"sk-699d29a865824dd8a56d427fe45b7413\",\n",
    "    \"sk-50a14a4626cb44d3a5cd33fff9750f39\",\n",
    "    \"sk-6267c004c2ac41d69c098628660f41d0\",\n",
    "    \"sk-13f158d94a4d43038055a89acd8024f2\",\n",
    "    \"sk-be7bf2ca2f074844a8538f6878aadb79\",\n",
    "    \"sk-c90ade95a2b940229e0ac9f35430dc1b\",\n",
    "    \"sk-b1d261afb71d40bea90b61ac11a202af\",\n",
    "    \"sk-448eb341e1454d398128266675581417\",\n",
    "    \"sk-60f739c8926247f5b22b23c67b075418\",\n",
    "    \"sk-51e0740ed82b4fe79983d1d5e18d0f77\",\n",
    "    \"sk-430eda3a5950475fa5dde7d12f51199f\",\n",
    "    \"sk-d0eb9f3efda042e58918ba993fea547b\",\n",
    "    \"sk-632f5cf28f0a43719096801cd7c2e61a\",\n",
    "    \"sk-dc356b8ca42c41788717c007f49e134a\",\n",
    "    \"sk-d83c8efeee9449198ef0a4f5c67be150\",\n",
    "    \"sk-d7c72208acfe4e89bb3045e708fbcc35\",\n",
    "    \"sk-b1bb53cc65204da6991fa7097705480e\",\n",
    "    \"sk-5c29358f33fd44b9bbea59b2cf6c131c\",\n",
    "    \"sk-430eda3a5950475fa5dde7d12f51199f\",\n",
    "    \"sk-80d6d634c5514cdca77bc6ae448d8912\",\n",
    "    \"sk-3b986ed51abb4ed18aadde5d41e11397\",\n",
    "    \"sk-704e7a4155304f00abb5d8105ea13c7d\",\n",
    "    \"sk-b6d1904ed7b24dd9a6afa8f4c852098d\",\n",
    "    \"sk-c90ade95a2b940229e0ac9f35430dc1b\",\n",
    "    \"sk-7af7ba01a1c14dc5b62a8d1d429ddf87\",\n",
    "    \"sk-6267c004c2ac41d69c098628660f41d0\",\n",
    "})"
   ]
  },
  {
   "cell_type": "markdown",
   "metadata": {},
   "source": [
    "Проверка работоспобоности ключей"
   ]
  },
  {
   "cell_type": "code",
   "execution_count": null,
   "metadata": {},
   "outputs": [
    {
     "name": "stderr",
     "output_type": "stream",
     "text": [
      "100%|██████████| 38/38 [01:30<00:00,  2.39s/it]\n"
     ]
    },
    {
     "data": {
      "text/plain": [
       "38"
      ]
     },
     "execution_count": 3,
     "metadata": {},
     "output_type": "execute_result"
    }
   ],
   "source": [
    "for key in tqdm(free_api_keys_from_git[:]):\n",
    "    dashscope.api_key = key\n",
    "\n",
    "    messages = [{\n",
    "        'role': 'user',\n",
    "        'content': [\n",
    "            {'text': 'Hello, are you here?'},\n",
    "        ]\n",
    "    }]\n",
    "\n",
    "    response = dashscope.MultiModalConversation.call(model='qwen2.5-vl-72b-instruct', messages=messages)\n",
    "    if response['status_code'] != 200:\n",
    "        print(key)\n",
    "        free_api_keys_from_git.remove(key)\n",
    "len(free_api_keys_from_git)"
   ]
  },
  {
   "cell_type": "markdown",
   "metadata": {},
   "source": [
    "Отобрал валидные ключи"
   ]
  },
  {
   "cell_type": "code",
   "execution_count": 4,
   "metadata": {},
   "outputs": [],
   "source": [
    "with open('qwen_api_keys.json', 'w') as file:\n",
    "    json.dump(free_api_keys_from_git, file, indent=4)"
   ]
  },
  {
   "cell_type": "markdown",
   "metadata": {},
   "source": [
    "Список ключей лежат в файле qwen_api_keys.json"
   ]
  }
 ],
 "metadata": {
  "kernelspec": {
   "display_name": ".venv",
   "language": "python",
   "name": "python3"
  },
  "language_info": {
   "codemirror_mode": {
    "name": "ipython",
    "version": 3
   },
   "file_extension": ".py",
   "mimetype": "text/x-python",
   "name": "python",
   "nbconvert_exporter": "python",
   "pygments_lexer": "ipython3",
   "version": "3.11.9"
  }
 },
 "nbformat": 4,
 "nbformat_minor": 2
}
